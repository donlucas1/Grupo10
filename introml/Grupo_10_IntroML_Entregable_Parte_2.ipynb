{
 "cells": [
  {
   "cell_type": "markdown",
   "metadata": {},
   "source": [
    "# Laboratorio 2: Armado de un esquema de aprendizaje automático\n",
    "\n",
    "En el laboratorio final se espera que puedan poner en práctica los conocimientos adquiridos en el curso, trabajando con un conjunto de datos de clasificación.\n",
    "\n",
    "El objetivo es que se introduzcan en el desarrollo de un esquema para hacer tareas de aprendizaje automático: selección de un modelo, ajuste de hiperparámetros y evaluación.\n",
    "\n",
    "El conjunto de datos a utilizar está en `./data/loan_data.csv`. Si abren el archivo verán que al principio (las líneas que empiezan con `#`) describen el conjunto de datos y sus atributos (incluyendo el atributo de etiqueta o clase).\n",
    "\n",
    "Se espera que hagan uso de las herramientas vistas en el curso. Se espera que hagan uso especialmente de las herramientas brindadas por `scikit-learn`."
   ]
  },
  {
   "cell_type": "code",
   "execution_count": 22,
   "metadata": {},
   "outputs": [],
   "source": [
    "import numpy as np\n",
    "import pandas as pd\n",
    "import matplotlib.pyplot as plt\n",
    "import seaborn as sns\n",
    "# TODO: Agregar las librerías que hagan falta\n",
    "from sklearn.model_selection import train_test_split\n",
    "from sklearn.linear_model import SGDClassifier\n",
    "from sklearn.preprocessing import StandardScaler\n",
    "from sklearn.pipeline import Pipeline\n",
    "from sklearn.pipeline import make_pipeline\n"
   ]
  },
  {
   "cell_type": "markdown",
   "metadata": {},
   "source": [
    "## Carga de datos y división en entrenamiento y evaluación\n",
    "\n",
    "La celda siguiente se encarga de la carga de datos (haciendo uso de pandas). Estos serán los que se trabajarán en el resto del laboratorio."
   ]
  },
  {
   "cell_type": "code",
   "execution_count": 23,
   "metadata": {},
   "outputs": [],
   "source": [
    "dataset = pd.read_csv(\"./loan_data.csv\", comment=\"#\")\n",
    "\n",
    "# División entre instancias y etiquetas\n",
    "X, y = dataset.iloc[:, 1:], dataset.TARGET\n",
    "\n",
    "# división entre entrenamiento y evaluación\n",
    "X_train, X_test, y_train, y_test = train_test_split(X, y, test_size=0.2, random_state=0)"
   ]
  },
  {
   "cell_type": "code",
   "execution_count": 24,
   "metadata": {},
   "outputs": [
    {
     "data": {
      "text/html": [
       "<div>\n",
       "<style scoped>\n",
       "    .dataframe tbody tr th:only-of-type {\n",
       "        vertical-align: middle;\n",
       "    }\n",
       "\n",
       "    .dataframe tbody tr th {\n",
       "        vertical-align: top;\n",
       "    }\n",
       "\n",
       "    .dataframe thead th {\n",
       "        text-align: right;\n",
       "    }\n",
       "</style>\n",
       "<table border=\"1\" class=\"dataframe\">\n",
       "  <thead>\n",
       "    <tr style=\"text-align: right;\">\n",
       "      <th></th>\n",
       "      <th>TARGET</th>\n",
       "      <th>LOAN</th>\n",
       "      <th>MORTDUE</th>\n",
       "      <th>VALUE</th>\n",
       "      <th>YOJ</th>\n",
       "      <th>DEROG</th>\n",
       "      <th>DELINQ</th>\n",
       "      <th>CLAGE</th>\n",
       "      <th>NINQ</th>\n",
       "      <th>CLNO</th>\n",
       "      <th>DEBTINC</th>\n",
       "    </tr>\n",
       "  </thead>\n",
       "  <tbody>\n",
       "    <tr>\n",
       "      <th>0</th>\n",
       "      <td>0</td>\n",
       "      <td>4700</td>\n",
       "      <td>88026.0</td>\n",
       "      <td>115506.0</td>\n",
       "      <td>6.0</td>\n",
       "      <td>0.0</td>\n",
       "      <td>0.0</td>\n",
       "      <td>182.248332</td>\n",
       "      <td>0.0</td>\n",
       "      <td>27.0</td>\n",
       "      <td>29.209023</td>\n",
       "    </tr>\n",
       "    <tr>\n",
       "      <th>1</th>\n",
       "      <td>0</td>\n",
       "      <td>19300</td>\n",
       "      <td>39926.0</td>\n",
       "      <td>101208.0</td>\n",
       "      <td>4.0</td>\n",
       "      <td>0.0</td>\n",
       "      <td>0.0</td>\n",
       "      <td>140.051638</td>\n",
       "      <td>0.0</td>\n",
       "      <td>14.0</td>\n",
       "      <td>31.545694</td>\n",
       "    </tr>\n",
       "    <tr>\n",
       "      <th>2</th>\n",
       "      <td>0</td>\n",
       "      <td>5700</td>\n",
       "      <td>71556.0</td>\n",
       "      <td>79538.0</td>\n",
       "      <td>2.0</td>\n",
       "      <td>0.0</td>\n",
       "      <td>0.0</td>\n",
       "      <td>92.643085</td>\n",
       "      <td>0.0</td>\n",
       "      <td>15.0</td>\n",
       "      <td>41.210012</td>\n",
       "    </tr>\n",
       "    <tr>\n",
       "      <th>3</th>\n",
       "      <td>0</td>\n",
       "      <td>13000</td>\n",
       "      <td>44875.0</td>\n",
       "      <td>57713.0</td>\n",
       "      <td>0.0</td>\n",
       "      <td>1.0</td>\n",
       "      <td>0.0</td>\n",
       "      <td>184.990324</td>\n",
       "      <td>1.0</td>\n",
       "      <td>12.0</td>\n",
       "      <td>28.602076</td>\n",
       "    </tr>\n",
       "    <tr>\n",
       "      <th>4</th>\n",
       "      <td>0</td>\n",
       "      <td>19300</td>\n",
       "      <td>72752.0</td>\n",
       "      <td>106084.0</td>\n",
       "      <td>11.0</td>\n",
       "      <td>0.0</td>\n",
       "      <td>0.0</td>\n",
       "      <td>193.707100</td>\n",
       "      <td>1.0</td>\n",
       "      <td>13.0</td>\n",
       "      <td>30.686106</td>\n",
       "    </tr>\n",
       "    <tr>\n",
       "      <th>...</th>\n",
       "      <td>...</td>\n",
       "      <td>...</td>\n",
       "      <td>...</td>\n",
       "      <td>...</td>\n",
       "      <td>...</td>\n",
       "      <td>...</td>\n",
       "      <td>...</td>\n",
       "      <td>...</td>\n",
       "      <td>...</td>\n",
       "      <td>...</td>\n",
       "      <td>...</td>\n",
       "    </tr>\n",
       "    <tr>\n",
       "      <th>1849</th>\n",
       "      <td>1</td>\n",
       "      <td>53400</td>\n",
       "      <td>228236.0</td>\n",
       "      <td>305514.0</td>\n",
       "      <td>6.0</td>\n",
       "      <td>0.0</td>\n",
       "      <td>0.0</td>\n",
       "      <td>11.148069</td>\n",
       "      <td>0.0</td>\n",
       "      <td>2.0</td>\n",
       "      <td>34.558417</td>\n",
       "    </tr>\n",
       "    <tr>\n",
       "      <th>1850</th>\n",
       "      <td>1</td>\n",
       "      <td>53600</td>\n",
       "      <td>235895.0</td>\n",
       "      <td>299772.0</td>\n",
       "      <td>5.0</td>\n",
       "      <td>0.0</td>\n",
       "      <td>0.0</td>\n",
       "      <td>112.748282</td>\n",
       "      <td>7.0</td>\n",
       "      <td>22.0</td>\n",
       "      <td>44.945929</td>\n",
       "    </tr>\n",
       "    <tr>\n",
       "      <th>1851</th>\n",
       "      <td>1</td>\n",
       "      <td>53600</td>\n",
       "      <td>208197.0</td>\n",
       "      <td>297280.0</td>\n",
       "      <td>4.0</td>\n",
       "      <td>1.0</td>\n",
       "      <td>1.0</td>\n",
       "      <td>160.485251</td>\n",
       "      <td>2.0</td>\n",
       "      <td>29.0</td>\n",
       "      <td>41.646731</td>\n",
       "    </tr>\n",
       "    <tr>\n",
       "      <th>1852</th>\n",
       "      <td>1</td>\n",
       "      <td>65500</td>\n",
       "      <td>205156.0</td>\n",
       "      <td>290239.0</td>\n",
       "      <td>2.0</td>\n",
       "      <td>0.0</td>\n",
       "      <td>0.0</td>\n",
       "      <td>98.808206</td>\n",
       "      <td>1.0</td>\n",
       "      <td>21.0</td>\n",
       "      <td>144.189001</td>\n",
       "    </tr>\n",
       "    <tr>\n",
       "      <th>1853</th>\n",
       "      <td>1</td>\n",
       "      <td>77400</td>\n",
       "      <td>87651.0</td>\n",
       "      <td>224630.0</td>\n",
       "      <td>9.0</td>\n",
       "      <td>0.0</td>\n",
       "      <td>2.0</td>\n",
       "      <td>73.469630</td>\n",
       "      <td>3.0</td>\n",
       "      <td>13.0</td>\n",
       "      <td>40.929793</td>\n",
       "    </tr>\n",
       "  </tbody>\n",
       "</table>\n",
       "<p>1854 rows × 11 columns</p>\n",
       "</div>"
      ],
      "text/plain": [
       "      TARGET   LOAN   MORTDUE     VALUE   YOJ  DEROG  DELINQ       CLAGE  \\\n",
       "0          0   4700   88026.0  115506.0   6.0    0.0     0.0  182.248332   \n",
       "1          0  19300   39926.0  101208.0   4.0    0.0     0.0  140.051638   \n",
       "2          0   5700   71556.0   79538.0   2.0    0.0     0.0   92.643085   \n",
       "3          0  13000   44875.0   57713.0   0.0    1.0     0.0  184.990324   \n",
       "4          0  19300   72752.0  106084.0  11.0    0.0     0.0  193.707100   \n",
       "...      ...    ...       ...       ...   ...    ...     ...         ...   \n",
       "1849       1  53400  228236.0  305514.0   6.0    0.0     0.0   11.148069   \n",
       "1850       1  53600  235895.0  299772.0   5.0    0.0     0.0  112.748282   \n",
       "1851       1  53600  208197.0  297280.0   4.0    1.0     1.0  160.485251   \n",
       "1852       1  65500  205156.0  290239.0   2.0    0.0     0.0   98.808206   \n",
       "1853       1  77400   87651.0  224630.0   9.0    0.0     2.0   73.469630   \n",
       "\n",
       "      NINQ  CLNO     DEBTINC  \n",
       "0      0.0  27.0   29.209023  \n",
       "1      0.0  14.0   31.545694  \n",
       "2      0.0  15.0   41.210012  \n",
       "3      1.0  12.0   28.602076  \n",
       "4      1.0  13.0   30.686106  \n",
       "...    ...   ...         ...  \n",
       "1849   0.0   2.0   34.558417  \n",
       "1850   7.0  22.0   44.945929  \n",
       "1851   2.0  29.0   41.646731  \n",
       "1852   1.0  21.0  144.189001  \n",
       "1853   3.0  13.0   40.929793  \n",
       "\n",
       "[1854 rows x 11 columns]"
      ]
     },
     "execution_count": 24,
     "metadata": {},
     "output_type": "execute_result"
    }
   ],
   "source": [
    "dataset"
   ]
  },
  {
   "cell_type": "markdown",
   "metadata": {},
   "source": [
    "\n",
    "Documentación:\n",
    "\n",
    "- https://scikit-learn.org/stable/modules/generated/sklearn.model_selection.train_test_split.html"
   ]
  },
  {
   "cell_type": "markdown",
   "metadata": {},
   "source": [
    "## Ejercicio 1: Descripción de los Datos y la Tarea\n",
    "\n",
    "Responder las siguientes preguntas:\n",
    "\n",
    "1. ¿De qué se trata el conjunto de datos?\n",
    "2. ¿Cuál es la variable objetivo que hay que predecir? ¿Qué significado tiene?\n",
    "3. ¿Qué información (atributos) hay disponible para hacer la predicción?\n",
    "4. ¿Qué atributos imagina ud. que son los más determinantes para la predicción?\n",
    "\n",
    "**No hace falta escribir código para responder estas preguntas.**"
   ]
  },
  {
   "cell_type": "markdown",
   "metadata": {},
   "source": [
    "1. El conjunto de datos es sobre informacion bancaria de personas. El banco busca automatizar las desiciones al otorgar un credito y así cumplir con la \"Equal Credit Opportunity Act\"\n",
    "2. El objetivo del data set es la de predecir si las personas del mismo son aptas o no para recibir un credito hipotecario.\n",
    "La variable objetivo es la variable Target la cual muestra si el cliente incumplió el pago del prestamo con un \"1\" o si cumplió con un \"0\"\n",
    "\n",
    "3. Los atributos disponibles para la prediccion son:\n",
    "TARGET  Label: 1 = client defaulted on loan - 0 = loan repaid\n",
    " LOAN    Amount of the loan request\n",
    " MORTDUE Amount due on existing mortgage\n",
    " VALUE   Value of current property\n",
    " YOJ     Years at present job\n",
    " DEROG   Number of major derogatory reports\n",
    " DELINQ  Number of delinquent credit lines\n",
    " CLAGE   Age of oldest trade line in months\n",
    " NINQ    Number of recent credit lines\n",
    " CLNO    Number of credit lines\n",
    " DEBTINC Debt-to-income ratio\n",
    "\n",
    "\n"
   ]
  },
  {
   "cell_type": "code",
   "execution_count": 25,
   "metadata": {},
   "outputs": [
    {
     "name": "stderr",
     "output_type": "stream",
     "text": [
      "c:\\Users\\lucas\\anaconda3\\lib\\site-packages\\seaborn\\distributions.py:2619: FutureWarning: `distplot` is a deprecated function and will be removed in a future version. Please adapt your code to use either `displot` (a figure-level function with similar flexibility) or `histplot` (an axes-level function for histograms).\n",
      "  warnings.warn(msg, FutureWarning)\n",
      "c:\\Users\\lucas\\anaconda3\\lib\\site-packages\\seaborn\\distributions.py:2619: FutureWarning: `distplot` is a deprecated function and will be removed in a future version. Please adapt your code to use either `displot` (a figure-level function with similar flexibility) or `histplot` (an axes-level function for histograms).\n",
      "  warnings.warn(msg, FutureWarning)\n",
      "c:\\Users\\lucas\\anaconda3\\lib\\site-packages\\seaborn\\distributions.py:2619: FutureWarning: `distplot` is a deprecated function and will be removed in a future version. Please adapt your code to use either `displot` (a figure-level function with similar flexibility) or `histplot` (an axes-level function for histograms).\n",
      "  warnings.warn(msg, FutureWarning)\n",
      "c:\\Users\\lucas\\anaconda3\\lib\\site-packages\\seaborn\\distributions.py:2619: FutureWarning: `distplot` is a deprecated function and will be removed in a future version. Please adapt your code to use either `displot` (a figure-level function with similar flexibility) or `histplot` (an axes-level function for histograms).\n",
      "  warnings.warn(msg, FutureWarning)\n",
      "c:\\Users\\lucas\\anaconda3\\lib\\site-packages\\seaborn\\distributions.py:2619: FutureWarning: `distplot` is a deprecated function and will be removed in a future version. Please adapt your code to use either `displot` (a figure-level function with similar flexibility) or `histplot` (an axes-level function for histograms).\n",
      "  warnings.warn(msg, FutureWarning)\n",
      "c:\\Users\\lucas\\anaconda3\\lib\\site-packages\\seaborn\\distributions.py:2619: FutureWarning: `distplot` is a deprecated function and will be removed in a future version. Please adapt your code to use either `displot` (a figure-level function with similar flexibility) or `histplot` (an axes-level function for histograms).\n",
      "  warnings.warn(msg, FutureWarning)\n",
      "c:\\Users\\lucas\\anaconda3\\lib\\site-packages\\seaborn\\distributions.py:2619: FutureWarning: `distplot` is a deprecated function and will be removed in a future version. Please adapt your code to use either `displot` (a figure-level function with similar flexibility) or `histplot` (an axes-level function for histograms).\n",
      "  warnings.warn(msg, FutureWarning)\n",
      "c:\\Users\\lucas\\anaconda3\\lib\\site-packages\\seaborn\\distributions.py:2619: FutureWarning: `distplot` is a deprecated function and will be removed in a future version. Please adapt your code to use either `displot` (a figure-level function with similar flexibility) or `histplot` (an axes-level function for histograms).\n",
      "  warnings.warn(msg, FutureWarning)\n",
      "c:\\Users\\lucas\\anaconda3\\lib\\site-packages\\seaborn\\distributions.py:2619: FutureWarning: `distplot` is a deprecated function and will be removed in a future version. Please adapt your code to use either `displot` (a figure-level function with similar flexibility) or `histplot` (an axes-level function for histograms).\n",
      "  warnings.warn(msg, FutureWarning)\n",
      "c:\\Users\\lucas\\anaconda3\\lib\\site-packages\\seaborn\\distributions.py:2619: FutureWarning: `distplot` is a deprecated function and will be removed in a future version. Please adapt your code to use either `displot` (a figure-level function with similar flexibility) or `histplot` (an axes-level function for histograms).\n",
      "  warnings.warn(msg, FutureWarning)\n"
     ]
    },
    {
     "data": {
      "text/plain": [
       "<AxesSubplot:xlabel='DEBTINC', ylabel='Density'>"
      ]
     },
     "execution_count": 25,
     "metadata": {},
     "output_type": "execute_result"
    },
    {
     "data": {
      "image/png": "[encoded data removed]",
      "text/plain": [
       "<Figure size 1728x648 with 10 Axes>"
      ]
     },
     "metadata": {
      "needs_background": "light"
     },
     "output_type": "display_data"
    }
   ],
   "source": [
    "f, axes = plt.subplots(2, 5, figsize=(24,9))\n",
    "sns.distplot( dataset['LOAN'] , color=\"skyblue\", ax=axes[0, 0])\n",
    "sns.distplot( dataset['MORTDUE'] , color=\"olive\", ax=axes[0, 1])\n",
    "sns.distplot( dataset['VALUE'] , color=\"orange\", ax=axes[0, 2])\n",
    "sns.distplot( dataset['YOJ'] , color=\"steelblue\", ax=axes[0, 3])\n",
    "sns.distplot( dataset['DEROG'] , color=\"yellow\", ax=axes[0, 4])\n",
    "sns.distplot( dataset['DELINQ'] , color=\"pink\", ax=axes[1, 0])\n",
    "sns.distplot( dataset['CLAGE'] , color=\"red\", ax=axes[1, 1])\n",
    "sns.distplot( dataset['NINQ'] , color=\"green\", ax=axes[1, 2])\n",
    "sns.distplot( dataset['CLNO'] , color=\"gold\", ax=axes[1, 3])\n",
    "sns.distplot( dataset['DEBTINC'] , color=\"teal\", ax=axes[1, 4])"
   ]
  },
  {
   "cell_type": "code",
   "execution_count": 26,
   "metadata": {},
   "outputs": [
    {
     "data": {
      "text/plain": [
       "<AxesSubplot:xlabel='TARGET', ylabel='DEBTINC'>"
      ]
     },
     "execution_count": 26,
     "metadata": {},
     "output_type": "execute_result"
    },
    {
     "data": {
      "image/png": "[encoded data removed]",
      "text/plain": [
       "<Figure size 1728x648 with 10 Axes>"
      ]
     },
     "metadata": {
      "needs_background": "light"
     },
     "output_type": "display_data"
    }
   ],
   "source": [
    "f, axes = plt.subplots(2, 5, figsize=(24,9))\n",
    "sns.boxplot(x = 'TARGET', y = 'LOAN', data = dataset , color=\"skyblue\", ax=axes[0, 0])\n",
    "sns.boxplot(x = 'TARGET', y = 'MORTDUE', data = dataset , color=\"olive\", ax=axes[0, 1])\n",
    "sns.boxplot(x = 'TARGET', y = 'VALUE', data = dataset , color=\"orange\", ax=axes[0, 2])\n",
    "sns.boxplot(x = 'TARGET', y = 'YOJ', data = dataset , color=\"steelblue\", ax=axes[0, 3])\n",
    "sns.boxplot(x = 'TARGET', y = 'DEROG', data = dataset , color=\"yellow\", ax=axes[0, 4])\n",
    "sns.boxplot(x = 'TARGET', y = 'DELINQ', data = dataset , color=\"pink\", ax=axes[1, 0])\n",
    "sns.boxplot(x = 'TARGET', y = 'CLAGE', data = dataset , color=\"red\", ax=axes[1, 1])\n",
    "sns.boxplot(x = 'TARGET', y = 'NINQ', data = dataset , color=\"green\", ax=axes[1, 2])\n",
    "sns.boxplot(x = 'TARGET', y = 'CLNO', data = dataset , color=\"gold\", ax=axes[1, 3])\n",
    "sns.boxplot(x = 'TARGET', y = 'DEBTINC', data = dataset , color=\"teal\", ax=axes[1, 4])"
   ]
  },
  {
   "cell_type": "markdown",
   "metadata": {},
   "source": [
    "4. Entre los atributos que podemos establecer como importantes a la hora de evaluar podemos encontrar:\n",
    "DELINQ  Number of delinquent credit lines (creditos inpagos)\n",
    "VALUE   Value of current property\n",
    "LOAN    Amount of the loan request\n",
    "MORTDUE Amount due on existing mortgage"
   ]
  },
  {
   "cell_type": "markdown",
   "metadata": {},
   "source": [
    "## Ejercicio 2: Predicción con Modelos Lineales\n",
    "\n",
    "En este ejercicio se entrenarán modelos lineales de clasificación para predecir la variable objetivo.\n",
    "\n",
    "Para ello, deberán utilizar la clase SGDClassifier de scikit-learn.\n",
    "\n",
    "Documentación:\n",
    "- https://scikit-learn.org/stable/modules/sgd.html\n",
    "- https://scikit-learn.org/stable/modules/generated/sklearn.linear_model.SGDClassifier.html\n"
   ]
  },
  {
   "cell_type": "markdown",
   "metadata": {},
   "source": [
    "### Ejercicio 2.1: SGDClassifier con hiperparámetros por defecto\n",
    "\n",
    "Entrenar y evaluar el clasificador SGDClassifier usando los valores por omisión de scikit-learn para todos los parámetros. Únicamente **fijar la semilla aleatoria** para hacer repetible el experimento.\n",
    "\n",
    "Evaluar sobre el conjunto de **entrenamiento** y sobre el conjunto de **evaluación**, reportando:\n",
    "- Accuracy\n",
    "- Precision\n",
    "- Recall\n",
    "- F1\n",
    "- matriz de confusión"
   ]
  },
  {
   "cell_type": "code",
   "execution_count": 43,
   "metadata": {},
   "outputs": [
    {
     "data": {
      "text/plain": [
       "SGDClassifier(random_state=42)"
      ]
     },
     "execution_count": 43,
     "metadata": {},
     "output_type": "execute_result"
    }
   ],
   "source": [
    "from sklearn.linear_model import SGDClassifier\n",
    "model1 = SGDClassifier(random_state=42)\n",
    "model1.fit(X_train, y_train)"
   ]
  },
  {
   "cell_type": "code",
   "execution_count": 44,
   "metadata": {},
   "outputs": [
    {
     "data": {
      "text/plain": [
       "Pipeline(steps=[('standardscaler', StandardScaler()),\n",
       "                ('model', SGDClassifier(random_state=5))])"
      ]
     },
     "execution_count": 44,
     "metadata": {},
     "output_type": "execute_result"
    }
   ],
   "source": [
    "model1=Pipeline([('standardscaler', StandardScaler()), ('model',SGDClassifier(random_state=5))])\n",
    "\n",
    "model1.fit(X_train, y_train)"
   ]
  },
  {
   "cell_type": "code",
   "execution_count": 45,
   "metadata": {},
   "outputs": [
    {
     "name": "stdout",
     "output_type": "stream",
     "text": [
      "Training score:  0.8543492919757248\n"
     ]
    }
   ],
   "source": [
    "score = model1.score(X_train, y_train)\n",
    "print(\"Training score: \", score) "
   ]
  },
  {
   "cell_type": "code",
   "execution_count": 46,
   "metadata": {},
   "outputs": [],
   "source": [
    "ypredtrain = model1.predict(X_train)"
   ]
  },
  {
   "cell_type": "code",
   "execution_count": 47,
   "metadata": {},
   "outputs": [
    {
     "name": "stdout",
     "output_type": "stream",
     "text": [
      "accuracy score :  0.8543492919757248\n",
      "precision score :  [0.88426626 0.60869565]\n",
      "recall score :  [0.94886364 0.39043825]\n",
      "f1 score :  [0.91542678 0.47572816]\n"
     ]
    }
   ],
   "source": [
    "from sklearn.metrics import accuracy_score, confusion_matrix, precision_score, recall_score, f1_score\n",
    "acs=accuracy_score(y_train,ypredtrain) \n",
    "rs=recall_score(y_train,ypredtrain, average=None) \n",
    "ps=precision_score(y_train,ypredtrain, average=None)\n",
    "f1 = f1_score(y_train, ypredtrain, average=None)\n",
    "print(\"accuracy score : \",acs)\n",
    "print(\"precision score : \",ps)\n",
    "print(\"recall score : \",rs)\n",
    "print(\"f1 score : \",f1)"
   ]
  },
  {
   "cell_type": "code",
   "execution_count": 48,
   "metadata": {},
   "outputs": [
    {
     "name": "stdout",
     "output_type": "stream",
     "text": [
      "              precision    recall  f1-score   support\n",
      "\n",
      "           0       0.88      0.95      0.92      1232\n",
      "           1       0.61      0.39      0.48       251\n",
      "\n",
      "    accuracy                           0.85      1483\n",
      "   macro avg       0.75      0.67      0.70      1483\n",
      "weighted avg       0.84      0.85      0.84      1483\n",
      "\n"
     ]
    }
   ],
   "source": [
    "from sklearn.metrics import classification_report\n",
    "\n",
    "print(classification_report(y_train, ypredtrain))"
   ]
  },
  {
   "cell_type": "markdown",
   "metadata": {},
   "source": []
  },
  {
   "cell_type": "code",
   "execution_count": 49,
   "metadata": {},
   "outputs": [
    {
     "name": "stdout",
     "output_type": "stream",
     "text": [
      "[[1169  153]\n",
      " [  63   98]]\n"
     ]
    }
   ],
   "source": [
    "from sklearn.metrics import confusion_matrix\n",
    "cm = confusion_matrix(y_train, ypredtrain)\n",
    "print(cm.T)"
   ]
  },
  {
   "cell_type": "code",
   "execution_count": 50,
   "metadata": {},
   "outputs": [
    {
     "data": {
      "text/plain": [
       "[Text(30.5, 0.5, 'Predicted Label'), Text(0.5, 21.5, 'True Label')]"
      ]
     },
     "execution_count": 50,
     "metadata": {},
     "output_type": "execute_result"
    },
    {
     "data": {
      "image/png": "[encoded data removed]",
      "text/plain": [
       "<Figure size 432x360 with 2 Axes>"
      ]
     },
     "metadata": {},
     "output_type": "display_data"
    }
   ],
   "source": [
    "sns.set(color_codes=True)\n",
    "plt.figure(1, figsize=(6, 5))\n",
    "\n",
    "plt.title(\"Matriz de Confusión\" )\n",
    "# define labels\n",
    "labels = [\"0\", \"1\"] \n",
    "sns.set(font_scale=1)\n",
    "ax = sns.heatmap(cm.T, annot=True, fmt='.1f', cmap=\"Blues\", cbar_kws={'label': 'Scale'})\n",
    " \n",
    "ax.set_xticklabels(labels)\n",
    "ax.set_yticklabels(labels)\n",
    " \n",
    "ax.set(ylabel=\"Predicted Label\", xlabel=\"True Label\")"
   ]
  },
  {
   "cell_type": "code",
   "execution_count": 51,
   "metadata": {},
   "outputs": [
    {
     "data": {
      "text/plain": [
       "(1169, 63, 153, 98)"
      ]
     },
     "execution_count": 51,
     "metadata": {},
     "output_type": "execute_result"
    }
   ],
   "source": [
    "tp, fp, fn, tn= confusion_matrix(y_train, ypredtrain).ravel()\n",
    "(tp, fp, fn, tn)"
   ]
  },
  {
   "cell_type": "code",
   "execution_count": 52,
   "metadata": {},
   "outputs": [],
   "source": [
    "ypred = model1.predict(X_test)"
   ]
  },
  {
   "cell_type": "code",
   "execution_count": 53,
   "metadata": {},
   "outputs": [
    {
     "name": "stdout",
     "output_type": "stream",
     "text": [
      "accuracy score :  0.8571428571428571\n",
      "precision score :  [0.88461538 0.57575758]\n",
      "recall score :  [0.95527157 0.32758621]\n",
      "f1 score :  [0.91858679 0.41758242]\n"
     ]
    }
   ],
   "source": [
    "# import Performance measure\n",
    "from sklearn.metrics import accuracy_score, confusion_matrix, precision_score, recall_score, f1_score\n",
    "acs=accuracy_score(y_test,ypred) \n",
    "rs=recall_score(y_test,ypred, average=None) \n",
    "ps=precision_score(y_test,ypred, average=None)\n",
    "f1 = f1_score(y_test, ypred,  average=None)\n",
    "print(\"accuracy score : \",acs)\n",
    "print(\"precision score : \",ps)\n",
    "print(\"recall score : \",rs)\n",
    "print(\"f1 score : \",f1)"
   ]
  },
  {
   "cell_type": "code",
   "execution_count": 54,
   "metadata": {},
   "outputs": [
    {
     "name": "stdout",
     "output_type": "stream",
     "text": [
      "              precision    recall  f1-score   support\n",
      "\n",
      "           0       0.88      0.96      0.92       313\n",
      "           1       0.58      0.33      0.42        58\n",
      "\n",
      "    accuracy                           0.86       371\n",
      "   macro avg       0.73      0.64      0.67       371\n",
      "weighted avg       0.84      0.86      0.84       371\n",
      "\n"
     ]
    }
   ],
   "source": [
    "from sklearn.metrics import classification_report\n",
    "\n",
    "print(classification_report(y_test, ypred))"
   ]
  },
  {
   "cell_type": "code",
   "execution_count": 55,
   "metadata": {},
   "outputs": [
    {
     "name": "stdout",
     "output_type": "stream",
     "text": [
      "[[299  39]\n",
      " [ 14  19]]\n"
     ]
    }
   ],
   "source": [
    "from sklearn.metrics import confusion_matrix\n",
    "cm1 = confusion_matrix(y_test, ypred)\n",
    "print(cm1.T)"
   ]
  },
  {
   "cell_type": "code",
   "execution_count": 56,
   "metadata": {},
   "outputs": [
    {
     "data": {
      "text/plain": [
       "[Text(30.5, 0.5, 'Predicted Label'), Text(0.5, 21.5, 'True Label')]"
      ]
     },
     "execution_count": 56,
     "metadata": {},
     "output_type": "execute_result"
    },
    {
     "data": {
      "image/png": "[encoded data removed]",
      "text/plain": [
       "<Figure size 432x360 with 2 Axes>"
      ]
     },
     "metadata": {},
     "output_type": "display_data"
    }
   ],
   "source": [
    "sns.set(color_codes=True)\n",
    "plt.figure(1, figsize=(6, 5))\n",
    "\n",
    "plt.title(\"Confusion Matrix\" )\n",
    "# define labels\n",
    "labels = [\"0\", \"1\"] \n",
    "sns.set(font_scale=1)\n",
    "ax = sns.heatmap(cm1.T, annot=True, fmt='.1f', cmap=\"Blues\", cbar_kws={'label': 'Scale'})\n",
    " \n",
    "ax.set_xticklabels(labels)\n",
    "ax.set_yticklabels(labels)\n",
    " \n",
    "ax.set(ylabel=\"Predicted Label\", xlabel=\"True Label\")"
   ]
  },
  {
   "cell_type": "code",
   "execution_count": null,
   "metadata": {},
   "outputs": [],
   "source": []
  },
  {
   "cell_type": "markdown",
   "metadata": {},
   "source": [
    "### Ejercicio 2.2: Ajuste de Hiperparámetros\n",
    "\n",
    "Seleccionar valores para los hiperparámetros principales del SGDClassifier. Como mínimo, probar diferentes funciones de loss, tasas de entrenamiento y tasas de regularización.\n",
    "\n",
    "Para ello, usar grid-search y 5-fold cross-validation sobre el conjunto de entrenamiento para explorar muchas combinaciones posibles de valores.\n",
    "\n",
    "Reportar accuracy promedio y varianza para todas las configuraciones.\n",
    "\n",
    "Para la mejor configuración encontrada, evaluar sobre el conjunto de **entrenamiento** y sobre el conjunto de **evaluación**, reportando:\n",
    "- Accuracy\n",
    "- Precision\n",
    "- Recall\n",
    "- F1\n",
    "- matriz de confusión\n",
    "\n",
    "Documentación:\n",
    "- https://scikit-learn.org/stable/modules/grid_search.html\n",
    "- https://scikit-learn.org/stable/modules/generated/sklearn.model_selection.GridSearchCV.html"
   ]
  },
  {
   "cell_type": "code",
   "execution_count": 57,
   "metadata": {},
   "outputs": [],
   "source": [
    "from sklearn.model_selection import GridSearchCV\n",
    "\n",
    "model = SGDClassifier(random_state=5)"
   ]
  },
  {
   "cell_type": "code",
   "execution_count": 58,
   "metadata": {},
   "outputs": [
    {
     "data": {
      "text/plain": [
       "{'alpha': 0.0001,\n",
       " 'average': False,\n",
       " 'class_weight': None,\n",
       " 'early_stopping': False,\n",
       " 'epsilon': 0.1,\n",
       " 'eta0': 0.0,\n",
       " 'fit_intercept': True,\n",
       " 'l1_ratio': 0.15,\n",
       " 'learning_rate': 'optimal',\n",
       " 'loss': 'hinge',\n",
       " 'max_iter': 1000,\n",
       " 'n_iter_no_change': 5,\n",
       " 'n_jobs': None,\n",
       " 'penalty': 'l2',\n",
       " 'power_t': 0.5,\n",
       " 'random_state': 5,\n",
       " 'shuffle': True,\n",
       " 'tol': 0.001,\n",
       " 'validation_fraction': 0.1,\n",
       " 'verbose': 0,\n",
       " 'warm_start': False}"
      ]
     },
     "execution_count": 58,
     "metadata": {},
     "output_type": "execute_result"
    }
   ],
   "source": [
    "model.get_params()"
   ]
  },
  {
   "cell_type": "code",
   "execution_count": 59,
   "metadata": {},
   "outputs": [
    {
     "data": {
      "text/plain": [
       "{'hinge': (sklearn.linear_model._sgd_fast.Hinge, 1.0),\n",
       " 'squared_hinge': (sklearn.linear_model._sgd_fast.SquaredHinge, 1.0),\n",
       " 'perceptron': (sklearn.linear_model._sgd_fast.Hinge, 0.0),\n",
       " 'log': (sklearn.linear_model._sgd_fast.Log,),\n",
       " 'modified_huber': (sklearn.linear_model._sgd_fast.ModifiedHuber,),\n",
       " 'squared_error': (sklearn.linear_model._sgd_fast.SquaredLoss,),\n",
       " 'squared_loss': (sklearn.linear_model._sgd_fast.SquaredLoss,),\n",
       " 'huber': (sklearn.linear_model._sgd_fast.Huber, 0.1),\n",
       " 'epsilon_insensitive': (sklearn.linear_model._sgd_fast.EpsilonInsensitive,\n",
       "  0.1),\n",
       " 'squared_epsilon_insensitive': (sklearn.linear_model._sgd_fast.SquaredEpsilonInsensitive,\n",
       "  0.1)}"
      ]
     },
     "execution_count": 59,
     "metadata": {},
     "output_type": "execute_result"
    }
   ],
   "source": [
    "model.max_iter = 3000\n",
    "model.loss_functions"
   ]
  },
  {
   "cell_type": "code",
   "execution_count": 60,
   "metadata": {},
   "outputs": [],
   "source": [
    "from scipy import stats\n",
    "param_grid = {\n",
    "    'model__loss': ['hinge', 'log', 'squared_error', 'squared_hinge'],\n",
    "    'model__learning_rate':['constant', 'optimal','adaptive'],\n",
    "    'model__alpha': [0.0, 0.001, 0.0001, 0.00001, 1.0, 10.0],\n",
    "     }"
   ]
  },
  {
   "cell_type": "code",
   "execution_count": 61,
   "metadata": {},
   "outputs": [
    {
     "name": "stdout",
     "output_type": "stream",
     "text": [
      "{'model__alpha': 0.0, 'model__learning_rate': 'constant', 'model__loss': 'hinge'}\n",
      "{'model__alpha': 0.0, 'model__learning_rate': 'constant', 'model__loss': 'log'}\n",
      "{'model__alpha': 0.0, 'model__learning_rate': 'constant', 'model__loss': 'squared_error'}\n",
      "{'model__alpha': 0.0, 'model__learning_rate': 'constant', 'model__loss': 'squared_hinge'}\n",
      "{'model__alpha': 0.0, 'model__learning_rate': 'optimal', 'model__loss': 'hinge'}\n",
      "{'model__alpha': 0.0, 'model__learning_rate': 'optimal', 'model__loss': 'log'}\n",
      "{'model__alpha': 0.0, 'model__learning_rate': 'optimal', 'model__loss': 'squared_error'}\n",
      "{'model__alpha': 0.0, 'model__learning_rate': 'optimal', 'model__loss': 'squared_hinge'}\n",
      "{'model__alpha': 0.0, 'model__learning_rate': 'adaptive', 'model__loss': 'hinge'}\n",
      "{'model__alpha': 0.0, 'model__learning_rate': 'adaptive', 'model__loss': 'log'}\n",
      "{'model__alpha': 0.0, 'model__learning_rate': 'adaptive', 'model__loss': 'squared_error'}\n",
      "{'model__alpha': 0.0, 'model__learning_rate': 'adaptive', 'model__loss': 'squared_hinge'}\n",
      "{'model__alpha': 0.001, 'model__learning_rate': 'constant', 'model__loss': 'hinge'}\n",
      "{'model__alpha': 0.001, 'model__learning_rate': 'constant', 'model__loss': 'log'}\n",
      "{'model__alpha': 0.001, 'model__learning_rate': 'constant', 'model__loss': 'squared_error'}\n",
      "{'model__alpha': 0.001, 'model__learning_rate': 'constant', 'model__loss': 'squared_hinge'}\n",
      "{'model__alpha': 0.001, 'model__learning_rate': 'optimal', 'model__loss': 'hinge'}\n",
      "{'model__alpha': 0.001, 'model__learning_rate': 'optimal', 'model__loss': 'log'}\n",
      "{'model__alpha': 0.001, 'model__learning_rate': 'optimal', 'model__loss': 'squared_error'}\n",
      "{'model__alpha': 0.001, 'model__learning_rate': 'optimal', 'model__loss': 'squared_hinge'}\n",
      "{'model__alpha': 0.001, 'model__learning_rate': 'adaptive', 'model__loss': 'hinge'}\n",
      "{'model__alpha': 0.001, 'model__learning_rate': 'adaptive', 'model__loss': 'log'}\n",
      "{'model__alpha': 0.001, 'model__learning_rate': 'adaptive', 'model__loss': 'squared_error'}\n",
      "{'model__alpha': 0.001, 'model__learning_rate': 'adaptive', 'model__loss': 'squared_hinge'}\n",
      "{'model__alpha': 0.0001, 'model__learning_rate': 'constant', 'model__loss': 'hinge'}\n",
      "{'model__alpha': 0.0001, 'model__learning_rate': 'constant', 'model__loss': 'log'}\n",
      "{'model__alpha': 0.0001, 'model__learning_rate': 'constant', 'model__loss': 'squared_error'}\n",
      "{'model__alpha': 0.0001, 'model__learning_rate': 'constant', 'model__loss': 'squared_hinge'}\n",
      "{'model__alpha': 0.0001, 'model__learning_rate': 'optimal', 'model__loss': 'hinge'}\n",
      "{'model__alpha': 0.0001, 'model__learning_rate': 'optimal', 'model__loss': 'log'}\n",
      "{'model__alpha': 0.0001, 'model__learning_rate': 'optimal', 'model__loss': 'squared_error'}\n",
      "{'model__alpha': 0.0001, 'model__learning_rate': 'optimal', 'model__loss': 'squared_hinge'}\n",
      "{'model__alpha': 0.0001, 'model__learning_rate': 'adaptive', 'model__loss': 'hinge'}\n",
      "{'model__alpha': 0.0001, 'model__learning_rate': 'adaptive', 'model__loss': 'log'}\n",
      "{'model__alpha': 0.0001, 'model__learning_rate': 'adaptive', 'model__loss': 'squared_error'}\n",
      "{'model__alpha': 0.0001, 'model__learning_rate': 'adaptive', 'model__loss': 'squared_hinge'}\n",
      "{'model__alpha': 1e-05, 'model__learning_rate': 'constant', 'model__loss': 'hinge'}\n",
      "{'model__alpha': 1e-05, 'model__learning_rate': 'constant', 'model__loss': 'log'}\n",
      "{'model__alpha': 1e-05, 'model__learning_rate': 'constant', 'model__loss': 'squared_error'}\n",
      "{'model__alpha': 1e-05, 'model__learning_rate': 'constant', 'model__loss': 'squared_hinge'}\n",
      "{'model__alpha': 1e-05, 'model__learning_rate': 'optimal', 'model__loss': 'hinge'}\n",
      "{'model__alpha': 1e-05, 'model__learning_rate': 'optimal', 'model__loss': 'log'}\n",
      "{'model__alpha': 1e-05, 'model__learning_rate': 'optimal', 'model__loss': 'squared_error'}\n",
      "{'model__alpha': 1e-05, 'model__learning_rate': 'optimal', 'model__loss': 'squared_hinge'}\n",
      "{'model__alpha': 1e-05, 'model__learning_rate': 'adaptive', 'model__loss': 'hinge'}\n",
      "{'model__alpha': 1e-05, 'model__learning_rate': 'adaptive', 'model__loss': 'log'}\n",
      "{'model__alpha': 1e-05, 'model__learning_rate': 'adaptive', 'model__loss': 'squared_error'}\n",
      "{'model__alpha': 1e-05, 'model__learning_rate': 'adaptive', 'model__loss': 'squared_hinge'}\n",
      "{'model__alpha': 1.0, 'model__learning_rate': 'constant', 'model__loss': 'hinge'}\n",
      "{'model__alpha': 1.0, 'model__learning_rate': 'constant', 'model__loss': 'log'}\n",
      "{'model__alpha': 1.0, 'model__learning_rate': 'constant', 'model__loss': 'squared_error'}\n",
      "{'model__alpha': 1.0, 'model__learning_rate': 'constant', 'model__loss': 'squared_hinge'}\n",
      "{'model__alpha': 1.0, 'model__learning_rate': 'optimal', 'model__loss': 'hinge'}\n",
      "{'model__alpha': 1.0, 'model__learning_rate': 'optimal', 'model__loss': 'log'}\n",
      "{'model__alpha': 1.0, 'model__learning_rate': 'optimal', 'model__loss': 'squared_error'}\n",
      "{'model__alpha': 1.0, 'model__learning_rate': 'optimal', 'model__loss': 'squared_hinge'}\n",
      "{'model__alpha': 1.0, 'model__learning_rate': 'adaptive', 'model__loss': 'hinge'}\n",
      "{'model__alpha': 1.0, 'model__learning_rate': 'adaptive', 'model__loss': 'log'}\n",
      "{'model__alpha': 1.0, 'model__learning_rate': 'adaptive', 'model__loss': 'squared_error'}\n",
      "{'model__alpha': 1.0, 'model__learning_rate': 'adaptive', 'model__loss': 'squared_hinge'}\n",
      "{'model__alpha': 10.0, 'model__learning_rate': 'constant', 'model__loss': 'hinge'}\n",
      "{'model__alpha': 10.0, 'model__learning_rate': 'constant', 'model__loss': 'log'}\n",
      "{'model__alpha': 10.0, 'model__learning_rate': 'constant', 'model__loss': 'squared_error'}\n",
      "{'model__alpha': 10.0, 'model__learning_rate': 'constant', 'model__loss': 'squared_hinge'}\n",
      "{'model__alpha': 10.0, 'model__learning_rate': 'optimal', 'model__loss': 'hinge'}\n",
      "{'model__alpha': 10.0, 'model__learning_rate': 'optimal', 'model__loss': 'log'}\n",
      "{'model__alpha': 10.0, 'model__learning_rate': 'optimal', 'model__loss': 'squared_error'}\n",
      "{'model__alpha': 10.0, 'model__learning_rate': 'optimal', 'model__loss': 'squared_hinge'}\n",
      "{'model__alpha': 10.0, 'model__learning_rate': 'adaptive', 'model__loss': 'hinge'}\n",
      "{'model__alpha': 10.0, 'model__learning_rate': 'adaptive', 'model__loss': 'log'}\n",
      "{'model__alpha': 10.0, 'model__learning_rate': 'adaptive', 'model__loss': 'squared_error'}\n",
      "{'model__alpha': 10.0, 'model__learning_rate': 'adaptive', 'model__loss': 'squared_hinge'}\n"
     ]
    }
   ],
   "source": [
    "#Podemos listar todas las combinaciones para usarlas a mano con ParameterGrid\n",
    "from sklearn.model_selection import ParameterGrid\n",
    "for params in ParameterGrid(param_grid):\n",
    "    print(params)"
   ]
  },
  {
   "cell_type": "code",
   "execution_count": 77,
   "metadata": {},
   "outputs": [
    {
     "name": "stderr",
     "output_type": "stream",
     "text": [
      "c:\\Users\\lucas\\anaconda3\\lib\\site-packages\\sklearn\\model_selection\\_validation.py:372: FitFailedWarning: \n",
      "20 fits failed out of a total of 360.\n",
      "The score on these train-test partitions for these parameters will be set to nan.\n",
      "If these failures are not expected, you can try to debug them by setting error_score='raise'.\n",
      "\n",
      "Below are more details about the failures:\n",
      "--------------------------------------------------------------------------------\n",
      "20 fits failed with the following error:\n",
      "Traceback (most recent call last):\n",
      "  File \"c:\\Users\\lucas\\anaconda3\\lib\\site-packages\\sklearn\\model_selection\\_validation.py\", line 680, in _fit_and_score\n",
      "    estimator.fit(X_train, y_train, **fit_params)\n",
      "  File \"c:\\Users\\lucas\\anaconda3\\lib\\site-packages\\sklearn\\pipeline.py\", line 394, in fit\n",
      "    self._final_estimator.fit(Xt, y, **fit_params_last_step)\n",
      "  File \"c:\\Users\\lucas\\anaconda3\\lib\\site-packages\\sklearn\\linear_model\\_stochastic_gradient.py\", line 883, in fit\n",
      "    return self._fit(\n",
      "  File \"c:\\Users\\lucas\\anaconda3\\lib\\site-packages\\sklearn\\linear_model\\_stochastic_gradient.py\", line 649, in _fit\n",
      "    self._validate_params()\n",
      "  File \"c:\\Users\\lucas\\anaconda3\\lib\\site-packages\\sklearn\\linear_model\\_stochastic_gradient.py\", line 151, in _validate_params\n",
      "    raise ValueError(\n",
      "ValueError: alpha must be > 0 since learning_rate is 'optimal'. alpha is used to compute the optimal learning rate.\n",
      "\n",
      "  warnings.warn(some_fits_failed_message, FitFailedWarning)\n",
      "c:\\Users\\lucas\\anaconda3\\lib\\site-packages\\sklearn\\model_selection\\_search.py:969: UserWarning: One or more of the test scores are non-finite: [0.86379789 0.86649832 0.5536309  0.73643189        nan        nan\n",
      "        nan        nan 0.86986077 0.86918964 0.86042179 0.84157112\n",
      " 0.85907726 0.86717172 0.54890345 0.73169988 0.86513787 0.86716262\n",
      " 0.84692647 0.84628265 0.86986077 0.86986532 0.86042179 0.84157112\n",
      " 0.84630085 0.86649832 0.5536309  0.7519383  0.8476249  0.85301893\n",
      " 0.46451224 0.76135226 0.86986077 0.86918964 0.86042179 0.84157112\n",
      " 0.86919874 0.86649832 0.5536309  0.73233688 0.83344708 0.84223997\n",
      " 0.52662208 0.78700064 0.86986077 0.86918964 0.86042179 0.84157112\n",
      " 0.84286787 0.83681864 0.77688143 0.7533306  0.83074893 0.83142233\n",
      " 0.84828465 0.8509828  0.83074893 0.83074893 0.84828465 0.8509828\n",
      " 0.83074893 0.83074893 0.81391391 0.83007326 0.83074893 0.83074893\n",
      " 0.83074893 0.83074893 0.83074893 0.83074893 0.83074893 0.83074893]\n",
      "  warnings.warn(\n"
     ]
    }
   ],
   "source": [
    "from sklearn.model_selection import GridSearchCV\n",
    "\n",
    "model = Pipeline([('standardscaler', StandardScaler()), ('model',SGDClassifier(random_state=5, eta0=0.1))])\n",
    "\n",
    "cv = GridSearchCV(model, param_grid, scoring ='accuracy', refit=True, cv=5)\n",
    "cv.fit(X_train, y_train);"
   ]
  },
  {
   "cell_type": "code",
   "execution_count": 78,
   "metadata": {},
   "outputs": [
    {
     "data": {
      "text/html": [
       "<div>\n",
       "<style scoped>\n",
       "    .dataframe tbody tr th:only-of-type {\n",
       "        vertical-align: middle;\n",
       "    }\n",
       "\n",
       "    .dataframe tbody tr th {\n",
       "        vertical-align: top;\n",
       "    }\n",
       "\n",
       "    .dataframe thead th {\n",
       "        text-align: right;\n",
       "    }\n",
       "</style>\n",
       "<table border=\"1\" class=\"dataframe\">\n",
       "  <thead>\n",
       "    <tr style=\"text-align: right;\">\n",
       "      <th></th>\n",
       "      <th>mean_fit_time</th>\n",
       "      <th>std_fit_time</th>\n",
       "      <th>mean_score_time</th>\n",
       "      <th>std_score_time</th>\n",
       "      <th>param_model__alpha</th>\n",
       "      <th>param_model__learning_rate</th>\n",
       "      <th>param_model__loss</th>\n",
       "      <th>params</th>\n",
       "      <th>split0_test_score</th>\n",
       "      <th>split1_test_score</th>\n",
       "      <th>split2_test_score</th>\n",
       "      <th>split3_test_score</th>\n",
       "      <th>split4_test_score</th>\n",
       "      <th>mean_test_score</th>\n",
       "      <th>std_test_score</th>\n",
       "      <th>rank_test_score</th>\n",
       "    </tr>\n",
       "  </thead>\n",
       "  <tbody>\n",
       "    <tr>\n",
       "      <th>21</th>\n",
       "      <td>0.006601</td>\n",
       "      <td>8.000732e-04</td>\n",
       "      <td>0.0010</td>\n",
       "      <td>3.371748e-07</td>\n",
       "      <td>0.001</td>\n",
       "      <td>adaptive</td>\n",
       "      <td>log</td>\n",
       "      <td>{'model__alpha': 0.001, 'model__learning_rate'...</td>\n",
       "      <td>0.865320</td>\n",
       "      <td>0.868687</td>\n",
       "      <td>0.865320</td>\n",
       "      <td>0.891892</td>\n",
       "      <td>0.858108</td>\n",
       "      <td>0.869865</td>\n",
       "      <td>0.011542</td>\n",
       "      <td>1</td>\n",
       "    </tr>\n",
       "    <tr>\n",
       "      <th>32</th>\n",
       "      <td>0.004401</td>\n",
       "      <td>4.900182e-04</td>\n",
       "      <td>0.0006</td>\n",
       "      <td>4.898625e-04</td>\n",
       "      <td>0.0001</td>\n",
       "      <td>adaptive</td>\n",
       "      <td>hinge</td>\n",
       "      <td>{'model__alpha': 0.0001, 'model__learning_rate...</td>\n",
       "      <td>0.875421</td>\n",
       "      <td>0.861953</td>\n",
       "      <td>0.868687</td>\n",
       "      <td>0.881757</td>\n",
       "      <td>0.861486</td>\n",
       "      <td>0.869861</td>\n",
       "      <td>0.007829</td>\n",
       "      <td>2</td>\n",
       "    </tr>\n",
       "    <tr>\n",
       "      <th>20</th>\n",
       "      <td>0.004401</td>\n",
       "      <td>4.899210e-04</td>\n",
       "      <td>0.0008</td>\n",
       "      <td>3.999949e-04</td>\n",
       "      <td>0.001</td>\n",
       "      <td>adaptive</td>\n",
       "      <td>hinge</td>\n",
       "      <td>{'model__alpha': 0.001, 'model__learning_rate'...</td>\n",
       "      <td>0.875421</td>\n",
       "      <td>0.861953</td>\n",
       "      <td>0.868687</td>\n",
       "      <td>0.881757</td>\n",
       "      <td>0.861486</td>\n",
       "      <td>0.869861</td>\n",
       "      <td>0.007829</td>\n",
       "      <td>2</td>\n",
       "    </tr>\n",
       "    <tr>\n",
       "      <th>8</th>\n",
       "      <td>0.004201</td>\n",
       "      <td>3.999473e-04</td>\n",
       "      <td>0.0008</td>\n",
       "      <td>4.002334e-04</td>\n",
       "      <td>0.0</td>\n",
       "      <td>adaptive</td>\n",
       "      <td>hinge</td>\n",
       "      <td>{'model__alpha': 0.0, 'model__learning_rate': ...</td>\n",
       "      <td>0.875421</td>\n",
       "      <td>0.861953</td>\n",
       "      <td>0.868687</td>\n",
       "      <td>0.881757</td>\n",
       "      <td>0.861486</td>\n",
       "      <td>0.869861</td>\n",
       "      <td>0.007829</td>\n",
       "      <td>2</td>\n",
       "    </tr>\n",
       "    <tr>\n",
       "      <th>44</th>\n",
       "      <td>0.004201</td>\n",
       "      <td>3.999712e-04</td>\n",
       "      <td>0.0008</td>\n",
       "      <td>4.001380e-04</td>\n",
       "      <td>0.00001</td>\n",
       "      <td>adaptive</td>\n",
       "      <td>hinge</td>\n",
       "      <td>{'model__alpha': 1e-05, 'model__learning_rate'...</td>\n",
       "      <td>0.875421</td>\n",
       "      <td>0.861953</td>\n",
       "      <td>0.868687</td>\n",
       "      <td>0.881757</td>\n",
       "      <td>0.861486</td>\n",
       "      <td>0.869861</td>\n",
       "      <td>0.007829</td>\n",
       "      <td>2</td>\n",
       "    </tr>\n",
       "    <tr>\n",
       "      <th>36</th>\n",
       "      <td>0.003001</td>\n",
       "      <td>4.370285e-07</td>\n",
       "      <td>0.0008</td>\n",
       "      <td>3.999710e-04</td>\n",
       "      <td>0.00001</td>\n",
       "      <td>constant</td>\n",
       "      <td>hinge</td>\n",
       "      <td>{'model__alpha': 1e-05, 'model__learning_rate'...</td>\n",
       "      <td>0.865320</td>\n",
       "      <td>0.861953</td>\n",
       "      <td>0.858586</td>\n",
       "      <td>0.891892</td>\n",
       "      <td>0.868243</td>\n",
       "      <td>0.869199</td>\n",
       "      <td>0.011799</td>\n",
       "      <td>6</td>\n",
       "    </tr>\n",
       "  </tbody>\n",
       "</table>\n",
       "</div>"
      ],
      "text/plain": [
       "    mean_fit_time  std_fit_time  mean_score_time  std_score_time  \\\n",
       "21       0.006601  8.000732e-04           0.0010    3.371748e-07   \n",
       "32       0.004401  4.900182e-04           0.0006    4.898625e-04   \n",
       "20       0.004401  4.899210e-04           0.0008    3.999949e-04   \n",
       "8        0.004201  3.999473e-04           0.0008    4.002334e-04   \n",
       "44       0.004201  3.999712e-04           0.0008    4.001380e-04   \n",
       "36       0.003001  4.370285e-07           0.0008    3.999710e-04   \n",
       "\n",
       "   param_model__alpha param_model__learning_rate param_model__loss  \\\n",
       "21              0.001                   adaptive               log   \n",
       "32             0.0001                   adaptive             hinge   \n",
       "20              0.001                   adaptive             hinge   \n",
       "8                 0.0                   adaptive             hinge   \n",
       "44            0.00001                   adaptive             hinge   \n",
       "36            0.00001                   constant             hinge   \n",
       "\n",
       "                                               params  split0_test_score  \\\n",
       "21  {'model__alpha': 0.001, 'model__learning_rate'...           0.865320   \n",
       "32  {'model__alpha': 0.0001, 'model__learning_rate...           0.875421   \n",
       "20  {'model__alpha': 0.001, 'model__learning_rate'...           0.875421   \n",
       "8   {'model__alpha': 0.0, 'model__learning_rate': ...           0.875421   \n",
       "44  {'model__alpha': 1e-05, 'model__learning_rate'...           0.875421   \n",
       "36  {'model__alpha': 1e-05, 'model__learning_rate'...           0.865320   \n",
       "\n",
       "    split1_test_score  split2_test_score  split3_test_score  \\\n",
       "21           0.868687           0.865320           0.891892   \n",
       "32           0.861953           0.868687           0.881757   \n",
       "20           0.861953           0.868687           0.881757   \n",
       "8            0.861953           0.868687           0.881757   \n",
       "44           0.861953           0.868687           0.881757   \n",
       "36           0.861953           0.858586           0.891892   \n",
       "\n",
       "    split4_test_score  mean_test_score  std_test_score  rank_test_score  \n",
       "21           0.858108         0.869865        0.011542                1  \n",
       "32           0.861486         0.869861        0.007829                2  \n",
       "20           0.861486         0.869861        0.007829                2  \n",
       "8            0.861486         0.869861        0.007829                2  \n",
       "44           0.861486         0.869861        0.007829                2  \n",
       "36           0.868243         0.869199        0.011799                6  "
      ]
     },
     "execution_count": 78,
     "metadata": {},
     "output_type": "execute_result"
    }
   ],
   "source": [
    "results = cv.cv_results_\n",
    "\n",
    "data_sdg_classifier=pd.DataFrame(results)\n",
    "data_sdg_classifier.sort_values('rank_test_score')[:6]"
   ]
  },
  {
   "cell_type": "code",
   "execution_count": 79,
   "metadata": {},
   "outputs": [
    {
     "data": {
      "text/html": [
       "<div>\n",
       "<style scoped>\n",
       "    .dataframe tbody tr th:only-of-type {\n",
       "        vertical-align: middle;\n",
       "    }\n",
       "\n",
       "    .dataframe tbody tr th {\n",
       "        vertical-align: top;\n",
       "    }\n",
       "\n",
       "    .dataframe thead th {\n",
       "        text-align: right;\n",
       "    }\n",
       "</style>\n",
       "<table border=\"1\" class=\"dataframe\">\n",
       "  <thead>\n",
       "    <tr style=\"text-align: right;\">\n",
       "      <th></th>\n",
       "      <th>param_model__learning_rate</th>\n",
       "      <th>param_model__loss</th>\n",
       "      <th>param_model__alpha</th>\n",
       "      <th>mean_test_score</th>\n",
       "      <th>std_test_score</th>\n",
       "      <th>rank_test_score</th>\n",
       "    </tr>\n",
       "  </thead>\n",
       "  <tbody>\n",
       "    <tr>\n",
       "      <th>0</th>\n",
       "      <td>constant</td>\n",
       "      <td>hinge</td>\n",
       "      <td>0.0</td>\n",
       "      <td>0.863798</td>\n",
       "      <td>0.009331</td>\n",
       "      <td>16</td>\n",
       "    </tr>\n",
       "    <tr>\n",
       "      <th>1</th>\n",
       "      <td>constant</td>\n",
       "      <td>log</td>\n",
       "      <td>0.0</td>\n",
       "      <td>0.866498</td>\n",
       "      <td>0.015238</td>\n",
       "      <td>12</td>\n",
       "    </tr>\n",
       "    <tr>\n",
       "      <th>2</th>\n",
       "      <td>constant</td>\n",
       "      <td>squared_error</td>\n",
       "      <td>0.0</td>\n",
       "      <td>0.553631</td>\n",
       "      <td>0.071240</td>\n",
       "      <td>63</td>\n",
       "    </tr>\n",
       "    <tr>\n",
       "      <th>3</th>\n",
       "      <td>constant</td>\n",
       "      <td>squared_hinge</td>\n",
       "      <td>0.0</td>\n",
       "      <td>0.736432</td>\n",
       "      <td>0.066145</td>\n",
       "      <td>60</td>\n",
       "    </tr>\n",
       "    <tr>\n",
       "      <th>4</th>\n",
       "      <td>optimal</td>\n",
       "      <td>hinge</td>\n",
       "      <td>0.0</td>\n",
       "      <td>NaN</td>\n",
       "      <td>NaN</td>\n",
       "      <td>70</td>\n",
       "    </tr>\n",
       "    <tr>\n",
       "      <th>...</th>\n",
       "      <td>...</td>\n",
       "      <td>...</td>\n",
       "      <td>...</td>\n",
       "      <td>...</td>\n",
       "      <td>...</td>\n",
       "      <td>...</td>\n",
       "    </tr>\n",
       "    <tr>\n",
       "      <th>67</th>\n",
       "      <td>optimal</td>\n",
       "      <td>squared_hinge</td>\n",
       "      <td>10.0</td>\n",
       "      <td>0.830749</td>\n",
       "      <td>0.001259</td>\n",
       "      <td>40</td>\n",
       "    </tr>\n",
       "    <tr>\n",
       "      <th>68</th>\n",
       "      <td>adaptive</td>\n",
       "      <td>hinge</td>\n",
       "      <td>10.0</td>\n",
       "      <td>0.830749</td>\n",
       "      <td>0.001259</td>\n",
       "      <td>40</td>\n",
       "    </tr>\n",
       "    <tr>\n",
       "      <th>69</th>\n",
       "      <td>adaptive</td>\n",
       "      <td>log</td>\n",
       "      <td>10.0</td>\n",
       "      <td>0.830749</td>\n",
       "      <td>0.001259</td>\n",
       "      <td>40</td>\n",
       "    </tr>\n",
       "    <tr>\n",
       "      <th>70</th>\n",
       "      <td>adaptive</td>\n",
       "      <td>squared_error</td>\n",
       "      <td>10.0</td>\n",
       "      <td>0.830749</td>\n",
       "      <td>0.001259</td>\n",
       "      <td>40</td>\n",
       "    </tr>\n",
       "    <tr>\n",
       "      <th>71</th>\n",
       "      <td>adaptive</td>\n",
       "      <td>squared_hinge</td>\n",
       "      <td>10.0</td>\n",
       "      <td>0.830749</td>\n",
       "      <td>0.001259</td>\n",
       "      <td>40</td>\n",
       "    </tr>\n",
       "  </tbody>\n",
       "</table>\n",
       "<p>72 rows × 6 columns</p>\n",
       "</div>"
      ],
      "text/plain": [
       "   param_model__learning_rate param_model__loss param_model__alpha  \\\n",
       "0                    constant             hinge                0.0   \n",
       "1                    constant               log                0.0   \n",
       "2                    constant     squared_error                0.0   \n",
       "3                    constant     squared_hinge                0.0   \n",
       "4                     optimal             hinge                0.0   \n",
       "..                        ...               ...                ...   \n",
       "67                    optimal     squared_hinge               10.0   \n",
       "68                   adaptive             hinge               10.0   \n",
       "69                   adaptive               log               10.0   \n",
       "70                   adaptive     squared_error               10.0   \n",
       "71                   adaptive     squared_hinge               10.0   \n",
       "\n",
       "    mean_test_score  std_test_score  rank_test_score  \n",
       "0          0.863798        0.009331               16  \n",
       "1          0.866498        0.015238               12  \n",
       "2          0.553631        0.071240               63  \n",
       "3          0.736432        0.066145               60  \n",
       "4               NaN             NaN               70  \n",
       "..              ...             ...              ...  \n",
       "67         0.830749        0.001259               40  \n",
       "68         0.830749        0.001259               40  \n",
       "69         0.830749        0.001259               40  \n",
       "70         0.830749        0.001259               40  \n",
       "71         0.830749        0.001259               40  \n",
       "\n",
       "[72 rows x 6 columns]"
      ]
     },
     "execution_count": 79,
     "metadata": {},
     "output_type": "execute_result"
    }
   ],
   "source": [
    "data_sdg_classifier[['param_model__learning_rate','param_model__loss','param_model__alpha','mean_test_score','std_test_score','rank_test_score']]\n"
   ]
  },
  {
   "cell_type": "markdown",
   "metadata": {},
   "source": [
    "Mejor Modelo"
   ]
  },
  {
   "cell_type": "code",
   "execution_count": 80,
   "metadata": {},
   "outputs": [
    {
     "data": {
      "text/plain": [
       "Pipeline(steps=[('standardscaler', StandardScaler()),\n",
       "                ('model',\n",
       "                 SGDClassifier(alpha=0.001, eta0=0.1, learning_rate='adaptive',\n",
       "                               loss='log', random_state=5))])"
      ]
     },
     "execution_count": 80,
     "metadata": {},
     "output_type": "execute_result"
    }
   ],
   "source": [
    "best_model = cv.best_estimator_\n",
    "best_model"
   ]
  },
  {
   "cell_type": "code",
   "execution_count": 81,
   "metadata": {},
   "outputs": [
    {
     "data": {
      "text/plain": [
       "array([0, 1], dtype=int64)"
      ]
     },
     "execution_count": 81,
     "metadata": {},
     "output_type": "execute_result"
    }
   ],
   "source": [
    "best_model.classes_"
   ]
  },
  {
   "cell_type": "code",
   "execution_count": 82,
   "metadata": {},
   "outputs": [
    {
     "data": {
      "text/plain": [
       "array([0, 0, 0, ..., 0, 0, 0], dtype=int64)"
      ]
     },
     "execution_count": 82,
     "metadata": {},
     "output_type": "execute_result"
    }
   ],
   "source": [
    "best_model.predict(X_train)"
   ]
  },
  {
   "cell_type": "code",
   "execution_count": 83,
   "metadata": {},
   "outputs": [
    {
     "data": {
      "text/plain": [
       "{'model__alpha': 0.001,\n",
       " 'model__learning_rate': 'adaptive',\n",
       " 'model__loss': 'log'}"
      ]
     },
     "execution_count": 83,
     "metadata": {},
     "output_type": "execute_result"
    }
   ],
   "source": [
    "cv.best_params_"
   ]
  },
  {
   "cell_type": "markdown",
   "metadata": {},
   "source": [
    "Entrenamiento mejor modelo:"
   ]
  },
  {
   "cell_type": "code",
   "execution_count": 84,
   "metadata": {},
   "outputs": [
    {
     "data": {
      "text/plain": [
       "Pipeline(steps=[('standardscaler', StandardScaler()),\n",
       "                ('model',\n",
       "                 SGDClassifier(alpha=0.0, eta0=0.1, learning_rate='adaptive',\n",
       "                               max_iter=3000, random_state=5))])"
      ]
     },
     "execution_count": 84,
     "metadata": {},
     "output_type": "execute_result"
    }
   ],
   "source": [
    "BM = Pipeline([('standardscaler', StandardScaler()), ('model',SGDClassifier(alpha=0.0, loss='hinge', max_iter=3000, random_state=5, eta0=0.1, learning_rate='adaptive', penalty='l2'))])\n",
    "BM.fit(X_train, y_train)"
   ]
  },
  {
   "cell_type": "code",
   "execution_count": 85,
   "metadata": {},
   "outputs": [
    {
     "name": "stdout",
     "output_type": "stream",
     "text": [
      "Training score:  0.8732299393122049\n"
     ]
    }
   ],
   "source": [
    "score = BM.score(X_train, y_train)\n",
    "print(\"Training score: \", score) "
   ]
  },
  {
   "cell_type": "code",
   "execution_count": 86,
   "metadata": {},
   "outputs": [
    {
     "data": {
      "text/plain": [
       "array([0, 0, 0, ..., 0, 0, 0], dtype=int64)"
      ]
     },
     "execution_count": 86,
     "metadata": {},
     "output_type": "execute_result"
    }
   ],
   "source": [
    "ypredtrain = BM.predict(X_train)\n",
    "ypredtrain"
   ]
  },
  {
   "cell_type": "markdown",
   "metadata": {},
   "source": [
    "Evaluación entrenamiento: "
   ]
  },
  {
   "cell_type": "code",
   "execution_count": 87,
   "metadata": {},
   "outputs": [
    {
     "name": "stdout",
     "output_type": "stream",
     "text": [
      "accuracy score :  0.8732299393122049\n",
      "precision score :  [0.871266   0.90909091]\n",
      "recall score :  [0.99431818 0.27888446]\n",
      "f1 score :  [0.92873389 0.42682927]\n"
     ]
    }
   ],
   "source": [
    "from sklearn.metrics import accuracy_score, confusion_matrix, precision_score, recall_score, f1_score\n",
    "acs=accuracy_score(y_train,ypredtrain) \n",
    "rs=recall_score(y_train,ypredtrain, average= None) \n",
    "ps=precision_score(y_train,ypredtrain, average= None)\n",
    "f1 = f1_score(y_train, ypredtrain, average= None)\n",
    "print(\"accuracy score : \",acs)\n",
    "print(\"precision score : \",ps)\n",
    "print(\"recall score : \",rs)\n",
    "print(\"f1 score : \",f1)"
   ]
  },
  {
   "cell_type": "code",
   "execution_count": 88,
   "metadata": {},
   "outputs": [
    {
     "name": "stdout",
     "output_type": "stream",
     "text": [
      "              precision    recall  f1-score   support\n",
      "\n",
      "           0       0.87      0.99      0.93      1232\n",
      "           1       0.91      0.28      0.43       251\n",
      "\n",
      "    accuracy                           0.87      1483\n",
      "   macro avg       0.89      0.64      0.68      1483\n",
      "weighted avg       0.88      0.87      0.84      1483\n",
      "\n"
     ]
    }
   ],
   "source": [
    "from sklearn.metrics import classification_report\n",
    "\n",
    "print(classification_report(y_train, ypredtrain))"
   ]
  },
  {
   "cell_type": "code",
   "execution_count": 89,
   "metadata": {},
   "outputs": [
    {
     "name": "stdout",
     "output_type": "stream",
     "text": [
      "[[1225  181]\n",
      " [   7   70]]\n"
     ]
    }
   ],
   "source": [
    "from sklearn.metrics import confusion_matrix\n",
    "cm = confusion_matrix(y_train, ypredtrain)\n",
    "print(cm.T)"
   ]
  },
  {
   "cell_type": "code",
   "execution_count": 90,
   "metadata": {},
   "outputs": [
    {
     "data": {
      "text/plain": [
       "[Text(30.5, 0.5, 'Predicted Label'), Text(0.5, 21.5, 'True Label')]"
      ]
     },
     "execution_count": 90,
     "metadata": {},
     "output_type": "execute_result"
    },
    {
     "data": {
      "image/png": "[encoded data removed]",
      "text/plain": [
       "<Figure size 432x360 with 2 Axes>"
      ]
     },
     "metadata": {},
     "output_type": "display_data"
    }
   ],
   "source": [
    "sns.set(color_codes=True)\n",
    "plt.figure(1, figsize=(6, 5))\n",
    "\n",
    "plt.title(\"Confusion Matrix\" )\n",
    "# define labels\n",
    "labels = [\"0\", \"1\"] \n",
    "sns.set(font_scale=1)\n",
    "ax = sns.heatmap(cm.T, annot=True, fmt='.1f', cmap=\"Blues\", cbar_kws={'label': 'Scale'})\n",
    " \n",
    "ax.set_xticklabels(labels)\n",
    "ax.set_yticklabels(labels)\n",
    " \n",
    "ax.set(ylabel=\"Predicted Label\", xlabel=\"True Label\")"
   ]
  },
  {
   "cell_type": "markdown",
   "metadata": {},
   "source": [
    "Predicción Evaluación  "
   ]
  },
  {
   "cell_type": "code",
   "execution_count": 91,
   "metadata": {},
   "outputs": [],
   "source": [
    "ypred = BM.predict(X_test)"
   ]
  },
  {
   "cell_type": "code",
   "execution_count": 92,
   "metadata": {},
   "outputs": [
    {
     "name": "stdout",
     "output_type": "stream",
     "text": [
      "accuracy score :  0.8840970350404312\n",
      "precision score :  [0.88135593 0.94117647]\n",
      "recall score :  [0.99680511 0.27586207]\n",
      "f1 score :  [0.93553223 0.42666667]\n"
     ]
    }
   ],
   "source": [
    "# import Performance measure\n",
    "from sklearn.metrics import accuracy_score, confusion_matrix, precision_score, recall_score, f1_score\n",
    "acs=accuracy_score(y_test,ypred) \n",
    "rs=recall_score(y_test,ypred, average=None) \n",
    "ps=precision_score(y_test,ypred, average=None)\n",
    "f1 = f1_score(y_test, ypred,  average=None)\n",
    "print(\"accuracy score : \",acs)\n",
    "print(\"precision score : \",ps)\n",
    "print(\"recall score : \",rs)\n",
    "print(\"f1 score : \",f1)"
   ]
  },
  {
   "cell_type": "code",
   "execution_count": 93,
   "metadata": {},
   "outputs": [
    {
     "name": "stdout",
     "output_type": "stream",
     "text": [
      "              precision    recall  f1-score   support\n",
      "\n",
      "           0       0.88      1.00      0.94       313\n",
      "           1       0.94      0.28      0.43        58\n",
      "\n",
      "    accuracy                           0.88       371\n",
      "   macro avg       0.91      0.64      0.68       371\n",
      "weighted avg       0.89      0.88      0.86       371\n",
      "\n"
     ]
    }
   ],
   "source": [
    "print(classification_report(y_test, ypred))"
   ]
  },
  {
   "cell_type": "code",
   "execution_count": 94,
   "metadata": {},
   "outputs": [
    {
     "name": "stdout",
     "output_type": "stream",
     "text": [
      "[[312  42]\n",
      " [  1  16]]\n"
     ]
    }
   ],
   "source": [
    "cm1 = confusion_matrix(y_test, ypred)\n",
    "print(cm1.T)"
   ]
  },
  {
   "cell_type": "code",
   "execution_count": 95,
   "metadata": {},
   "outputs": [
    {
     "data": {
      "text/plain": [
       "[Text(30.5, 0.5, 'Predicted Label'), Text(0.5, 21.5, 'True Label')]"
      ]
     },
     "execution_count": 95,
     "metadata": {},
     "output_type": "execute_result"
    },
    {
     "data": {
      "image/png": "[encoded data removed]",
      "text/plain": [
       "<Figure size 432x360 with 2 Axes>"
      ]
     },
     "metadata": {},
     "output_type": "display_data"
    }
   ],
   "source": [
    "sns.set(color_codes=True)\n",
    "plt.figure(1, figsize=(6, 5))\n",
    "\n",
    "plt.title(\"Confusion Matrix\" )\n",
    "# define labels\n",
    "labels = [\"0\", \"1\"] \n",
    "sns.set(font_scale=1)\n",
    "ax = sns.heatmap(cm1.T, annot=True, fmt='.1f', cmap=\"Blues\", cbar_kws={'label': 'Scale'})\n",
    " \n",
    "ax.set_xticklabels(labels)\n",
    "ax.set_yticklabels(labels)\n",
    " \n",
    "ax.set(ylabel=\"Predicted Label\", xlabel=\"True Label\")"
   ]
  },
  {
   "cell_type": "markdown",
   "metadata": {},
   "source": [
    "## Ejercicio 3: Árboles de Decisión\n",
    "\n",
    "En este ejercicio se entrenarán árboles de decisión para predecir la variable objetivo.\n",
    "\n",
    "Para ello, deberán utilizar la clase DecisionTreeClassifier de scikit-learn.\n",
    "\n",
    "Documentación:\n",
    "- https://scikit-learn.org/stable/modules/tree.html\n",
    "  - https://scikit-learn.org/stable/modules/tree.html#tips-on-practical-use\n",
    "- https://scikit-learn.org/stable/modules/generated/sklearn.tree.DecisionTreeClassifier.html\n",
    "- https://scikit-learn.org/stable/auto_examples/tree/plot_unveil_tree_structure.html"
   ]
  },
  {
   "cell_type": "markdown",
   "metadata": {},
   "source": [
    "### Ejercicio 3.1: DecisionTreeClassifier con hiperparámetros por defecto\n",
    "\n",
    "Entrenar y evaluar el clasificador DecisionTreeClassifier usando los valores por omisión de scikit-learn para todos los parámetros. Únicamente **fijar la semilla aleatoria** para hacer repetible el experimento.\n",
    "\n",
    "Evaluar sobre el conjunto de **entrenamiento** y sobre el conjunto de **evaluación**, reportando:\n",
    "- Accuracy\n",
    "- Precision\n",
    "- Recall\n",
    "- F1\n",
    "- matriz de confusión\n"
   ]
  },
  {
   "cell_type": "markdown",
   "metadata": {},
   "source": [
    "### Ejercicio 3.2: Ajuste de Hiperparámetros\n",
    "\n",
    "Seleccionar valores para los hiperparámetros principales del DecisionTreeClassifier. Como mínimo, probar diferentes criterios de partición (criterion), profundidad máxima del árbol (max_depth), y cantidad mínima de samples por hoja (min_samples_leaf).\n",
    "\n",
    "Para ello, usar grid-search y 5-fold cross-validation sobre el conjunto de entrenamiento para explorar muchas combinaciones posibles de valores.\n",
    "\n",
    "Reportar accuracy promedio y varianza para todas las configuraciones.\n",
    "\n",
    "Para la mejor configuración encontrada, evaluar sobre el conjunto de **entrenamiento** y sobre el conjunto de **evaluación**, reportando:\n",
    "- Accuracy\n",
    "- Precision\n",
    "- Recall\n",
    "- F1\n",
    "- matriz de confusión\n",
    "\n",
    "\n",
    "Documentación:\n",
    "- https://scikit-learn.org/stable/modules/grid_search.html\n",
    "- https://scikit-learn.org/stable/modules/generated/sklearn.model_selection.GridSearchCV.html"
   ]
  }
 ],
 "metadata": {
  "kernelspec": {
   "display_name": "Python 3.8.8 ('base')",
   "language": "python",
   "name": "python3"
  },
  "language_info": {
   "codemirror_mode": {
    "name": "ipython",
    "version": 3
   },
   "file_extension": ".py",
   "mimetype": "text/x-python",
   "name": "python",
   "nbconvert_exporter": "python",
   "pygments_lexer": "ipython3",
   "version": "3.8.8"
  },
  "vscode": {
   "interpreter": {
    "hash": "665796ea3363072d3a6057ac2fdbe3c4fcb0d17a4b92295d9707f78e9c46c0af"
   }
  }
 },
 "nbformat": 4,
 "nbformat_minor": 4
}
